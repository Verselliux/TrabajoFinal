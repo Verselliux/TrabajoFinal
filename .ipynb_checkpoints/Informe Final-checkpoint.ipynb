{
 "cells": [
  {
   "cell_type": "markdown",
   "id": "47603db8",
   "metadata": {},
   "source": [
    "# <span style=\"font-family: Georgia; color: #CD9B1D;\"><strong>Webscraping para obtener datos de Turismo en Latinoamérica</strong></span>\n",
    "\n",
    "<br>\n",
    "\n",
    "\n",
    "\n",
    "\n",
    "\n",
    "<div style=\"display: flex;\">\n",
    "    <div style=\"flex: 1;margin-right: 90px;\">\n",
    "        Mediante este proyecto, tenemos como objetivo principal la extracción de datos de diversas fuentes, un proceso conocido como web scraping. Nuestro propósito es recopilar la información necesaria para generar recomendaciones de países en América Latina que sean ideales para visitar en cada mes del año.\n",
    "     <br>\n",
    "      <br>\n",
    "        Este proyecto se basa en la premisa de que cada mes del año tiene características únicas en términos de clima y eventos culturales en diferentes países de América Latina. Al aprovechar esta diversidad, podemos ofrecer recomendaciones personalizadas y relevantes para aquellos que deseen planificar sus viajes con anticipación.\n",
    "         <br>\n",
    "      <br>\n",
    "       Con este proyecto, esperamos proporcionar una herramienta útil y práctica para aquellos que deseen explorar la belleza y diversidad de los países de América Latina en el momento perfecto según sus preferencias personales. \n",
    "     </div>\n",
    "    <div style=\"flex: 1; text-align: right;\">\n",
    "        <img src='https://www.portafolio.co/files/article_multimedia/uploads/2022/10/11/6345a4844ffcb.jpeg' width=\"2000\" height=\"500\" >\n",
    "    </div>\n",
    "</div>"
   ]
  },
  {
   "cell_type": "markdown",
   "id": "8aa1d8ba",
   "metadata": {},
   "source": [
    "## <span style=\"color: #8B6914;\">APIs a usar</span>\n",
    "\n",
    "### MediaWiki API help\n",
    "<br>\n",
    "La API de MediaWiki es una interfaz de programación de aplicaciones que permite interactuar con wikis basados en el software MediaWiki, que incluye Wikipedia y otros proyectos similares. A través de esta API, es posible acceder a una amplia variedad de información relacionada con turismo en América Latina, como artículos, imágenes, categorías y datos estructurados.\n",
    "<div style=\"display: flex; justify-content: center;\">\n",
    "    <img src='https://camo.githubusercontent.com/efa7dd4e042ef923df6f6888701aed3f07f97a98ab22124afe4c609db2f4ccce/68747470733a2f2f75706c6f61642e77696b696d656469612e6f72672f77696b6970656469612f636f6d6d6f6e732f7468756d622f642f64642f4d6564696157696b692d323032302d6c6f676f2e7376672f32323070782d4d6564696157696b692d323032302d6c6f676f2e7376672e706e67' width=\"300\" height=\"200\" />\n",
    "</div>\n",
    "\n"
   ]
  },
  {
   "cell_type": "markdown",
   "id": "aa61517c",
   "metadata": {},
   "source": [
    "### OpenWeather \n",
    "\n",
    "La OpenWeather API es una excelente opción para recopilar información meteorológica de diferentes países de América Latina, lo cual es relevante para el turismo. La API proporciona datos en tiempo real y pronósticos climáticos precisos que pueden ayudar a los viajeros a planificar sus actividades al aire libre, seleccionar la ropa adecuada y anticiparse a posibles condiciones climáticas adversas.\n",
    "\n",
    "Al utilizar la OpenWeather API, puedes obtener información como temperatura, humedad, velocidad del viento, pronóstico a corto y largo plazo, y otros datos meteorológicos relevantes.\n",
    "\n",
    "<div style=\"display: flex; justify-content: center;\">\n",
    "    <img src='https://assets.zabbix.com/img/brands/openweather.jpg' width=\"500\" height=\"400\" />\n",
    "</div>\n",
    "\n",
    "\n"
   ]
  },
  {
   "cell_type": "markdown",
   "id": "c82dd599",
   "metadata": {},
   "source": [
    "### Geopy \n",
    "\n",
    "Geopy es una biblioteca de Python que facilita la manipulación de información geográfica y geolocalización. Permite convertir direcciones en coordenadas geográficas, obtener direcciones a partir de coordenadas, calcular distancias entre ubicaciones, buscar puntos de interés cercanos y más. También ofrece soporte para diversos servicios de geolocalización y proveedores de mapas en línea. \n",
    "<div style=\"display: flex; justify-content: center;\">\n",
    "    <img src=\"https://geopy.readthedocs.io/en/stable/_images/logo-wide.png\" width=\"500\" height=\"400\" />\n",
    "</div>\n",
    "\n"
   ]
  },
  {
   "cell_type": "markdown",
   "id": "bbb22093",
   "metadata": {},
   "source": [
    "## <span style=\"color: #8B6914;\">Objetivos</span>  \n",
    "**Objetivo principal**  \n",
    "Ofrecer recomendaciones de destinos en Latinoamérica considerando el clima en un webscrapingy usando APIs es importante para ayudar a los viajeros a planificar su viaje de manera más informada, mejorar su experiencia, garantizar su seguridad y comodidad, y personalizar sus opciones según sus preferencias individuales.   \n",
    "\n",
    "\n",
    "**Objetivos específicos**  \n",
    "- Diseñar una interfaz basada en códigos Python en Jupyter Notebook, en la que los usuarios puedan acceder fácilmente a las recomendaciones de destinos basadas en el clima.  \n",
    "- Descargar la información obtenida en formato csv, excel, pdf, entre otros para poder analizarla y una mejor visualización.\n",
    "\n",
    "\n"
   ]
  },
  {
   "cell_type": "markdown",
   "id": "5693c9c2",
   "metadata": {},
   "source": [
    "### INPUT ### \n",
    "<br>\n",
    "<div style=\"display: flex; justify-content: center;\">\n",
    "    <img src=\"paist.png\" width=\"500\" height=\"400\" />\n",
    "</div>\n"
   ]
  },
  {
   "cell_type": "markdown",
   "id": "5ab299c2",
   "metadata": {},
   "source": [
    "<div style=\"display: flex; justify-content: center;\">\n",
    "    <img src=\"https://static.vecteezy.com/system/resources/previews/008/253/257/original/2023-calendar-english-international-version-colorful-vector.jpg\" width=\"500\" height=\"400\" />\n",
    "</div>"
   ]
  },
  {
   "cell_type": "code",
   "execution_count": null,
   "id": "33845972",
   "metadata": {},
   "outputs": [],
   "source": []
  }
 ],
 "metadata": {
  "kernelspec": {
   "display_name": "Python 3 (ipykernel)",
   "language": "python",
   "name": "python3"
  },
  "language_info": {
   "codemirror_mode": {
    "name": "ipython",
    "version": 3
   },
   "file_extension": ".py",
   "mimetype": "text/x-python",
   "name": "python",
   "nbconvert_exporter": "python",
   "pygments_lexer": "ipython3",
   "version": "3.9.13"
  }
 },
 "nbformat": 4,
 "nbformat_minor": 5
}
