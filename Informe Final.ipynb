{
 "cells": [
  {
   "cell_type": "markdown",
   "id": "47603db8",
   "metadata": {},
   "source": [
    "# <span style=\"font-family: Georgia; color: #CD9B1D;\"><strong>Webscraping para obtener datos de Turismo en Latinoamérica</strong></span>\n",
    "\n",
    "<br>\n",
    "\n",
    "\n",
    "\n",
    "\n",
    "\n",
    "<div style=\"display: flex;\">\n",
    "    <div style=\"flex: 1;margin-right: 90px;\">\n",
    "        Mediante este proyecto, tenemos como objetivo principal la extracción de datos de diversas fuentes, un proceso conocido como web scraping. Nuestro propósito es recopilar la información necesaria para generar recomendaciones de países en América Latina que sean ideales para visitar en cada mes del año.\n",
    "     <br>\n",
    "      <br>\n",
    "        Este proyecto se basa en la premisa de que cada mes del año tiene características únicas en términos de clima y eventos culturales en diferentes países de América Latina. Al aprovechar esta diversidad, podemos ofrecer recomendaciones personalizadas y relevantes para aquellos que deseen planificar sus viajes con anticipación.\n",
    "         <br>\n",
    "      <br>\n",
    "       Con este proyecto, esperamos proporcionar una herramienta útil y práctica para aquellos que deseen explorar la belleza y diversidad de los países de América Latina en el momento perfecto según sus preferencias personales. \n",
    "     </div>\n",
    "    <div style=\"flex: 1; text-align: right;\">\n",
    "        <img src='https://www.portafolio.co/files/article_multimedia/uploads/2022/10/11/6345a4844ffcb.jpeg' width=\"2000\" height=\"500\" >\n",
    "    </div>\n",
    "</div>"
   ]
  },
  {
   "cell_type": "markdown",
   "id": "8aa1d8ba",
   "metadata": {},
   "source": [
    "## <span style=\"color: #8B6914;\">APIs a usar</span>\n",
    "\n",
    "### MediaWiki API help\n",
    "<br>\n",
    "La API de MediaWiki es una interfaz de programación de aplicaciones que permite interactuar con wikis basados en el software MediaWiki, que incluye Wikipedia y otros proyectos similares. A través de esta API, es posible acceder a una amplia variedad de información relacionada con turismo en América Latina, como artículos, imágenes, categorías y datos estructurados.\n",
    "<div style=\"display: flex; justify-content: center;\">\n",
    "    <img src='https://camo.githubusercontent.com/efa7dd4e042ef923df6f6888701aed3f07f97a98ab22124afe4c609db2f4ccce/68747470733a2f2f75706c6f61642e77696b696d656469612e6f72672f77696b6970656469612f636f6d6d6f6e732f7468756d622f642f64642f4d6564696157696b692d323032302d6c6f676f2e7376672f32323070782d4d6564696157696b692d323032302d6c6f676f2e7376672e706e67' width=\"300\" height=\"200\" />\n",
    "</div>\n",
    "\n"
   ]
  },
  {
   "cell_type": "markdown",
   "id": "aa61517c",
   "metadata": {},
   "source": [
    "### OpenWeather \n",
    "\n",
    "La OpenWeather API es una excelente opción para recopilar información meteorológica de diferentes países de América Latina, lo cual es relevante para el turismo. La API proporciona datos en tiempo real y pronósticos climáticos precisos que pueden ayudar a los viajeros a planificar sus actividades al aire libre, seleccionar la ropa adecuada y anticiparse a posibles condiciones climáticas adversas.\n",
    "\n",
    "Al utilizar la OpenWeather API, puedes obtener información como temperatura, humedad, velocidad del viento, pronóstico a corto y largo plazo, y otros datos meteorológicos relevantes.\n",
    "\n",
    "<div style=\"display: flex; justify-content: center;\">\n",
    "    <img src='https://assets.zabbix.com/img/brands/openweather.jpg' width=\"500\" height=\"400\" />\n",
    "</div>\n",
    "\n",
    "\n"
   ]
  },
  {
   "cell_type": "markdown",
   "id": "c82dd599",
   "metadata": {},
   "source": [
    "### Geopy \n",
    "\n",
    "Geopy es una biblioteca de Python que facilita la manipulación de información geográfica y geolocalización. Permite convertir direcciones en coordenadas geográficas, obtener direcciones a partir de coordenadas, calcular distancias entre ubicaciones, buscar puntos de interés cercanos y más. También ofrece soporte para diversos servicios de geolocalización y proveedores de mapas en línea. \n",
    "<div style=\"display: flex; justify-content: center;\">\n",
    "    <img src=\"https://geopy.readthedocs.io/en/stable/_images/logo-wide.png\" width=\"500\" height=\"400\" />\n",
    "</div>\n",
    "\n"
   ]
  },
  {
   "cell_type": "markdown",
   "id": "bbb22093",
   "metadata": {},
   "source": [
    "## <span style=\"color: #8B6914;\">Objetivos</span>  \n",
    "**Objetivo principal**  \n",
    "Ofrecer recomendaciones de destinos en Latinoamérica considerando el clima en un webscrapingy usando APIs es importante para ayudar a los viajeros a planificar su viaje de manera más informada, mejorar su experiencia, garantizar su seguridad y comodidad, y personalizar sus opciones según sus preferencias individuales.   \n",
    "\n",
    "\n",
    "**Objetivos específicos**  \n",
    "- Diseñar una interfaz basada en códigos Python en Jupyter Notebook, en la que los usuarios puedan acceder fácilmente a las recomendaciones de destinos basadas en el clima.  \n",
    "- Descargar la información obtenida en formato csv, excel, pdf, entre otros para poder analizarla y una mejor visualización.\n",
    "\n",
    "\n"
   ]
  },
  {
   "cell_type": "markdown",
   "id": "5693c9c2",
   "metadata": {},
   "source": [
    "### INPUT ### \n"
   ]
  },
  {
   "cell_type": "markdown",
   "id": "55cccc43",
   "metadata": {},
   "source": [
    "<table>\n",
    "  <tr>\n",
    "    <td>\n",
    "      <img src=\"paist.png\" alt=\"Imagen 1\" width=\"300\">\n",
    "      <p align=\"center\"><span style=\"margin-left: 130px;\"></span> Clima</p>\n",
    "    </td>\n",
    "    <td>\n",
    "      <img src=\"https://static.vecteezy.com/system/resources/previews/008/253/257/original/2023-calendar-english-international-version-colorful-vector.jpg\" alt=\"Imagen 2\" width=\"300\">\n",
    "      <p align=\"center\"><span style=\"margin-left: 120px;\"></span> Mes del año</p>\n",
    "    </td>\n",
    "    <td>\n",
    "      <img src=\"https://peru21.pe/resizer/3CrNPQ8ee3d75M-hwYk9aq-ERls=/980x0/smart/filters:format(jpeg):quality(75)/arc-anglerfish-arc2-prod-elcomercio.s3.amazonaws.com/public/EZWSBZXETBCMPANF7LB7DQXNXA.jpg\" alt=\"Imagen 3\" width=\"300\">\n",
    "      <p align=\"center\"><span style=\"margin-left: 100px;\"></span> Ubicación actual</p>\n",
    "    </td>\n",
    "  </tr>\n",
    "</table>"
   ]
  },
  {
   "cell_type": "markdown",
   "id": "8625a2e1",
   "metadata": {},
   "source": [
    "### OUTPUT"
   ]
  },
  {
   "cell_type": "markdown",
   "id": "76908db7",
   "metadata": {},
   "source": [
    "<table>\n",
    "  <tr>\n",
    "    <td>\n",
    "      <img src=\"https://upload.wikimedia.org/wikipedia/commons/thumb/8/8d/Microsoft_Excel_Logo_%282013-2019%29.svg/1200px-Microsoft_Excel_Logo_%282013-2019%29.svg.png\" alt=\"Imagen 1\" width=\"200\">\n",
    "      <p align=\"center\"><span style=\"margin-left: 130px;\"></span> EXCEL</p>\n",
    "    </td>\n",
    "    <td>\n",
    "      <img src=\"https://play-lh.googleusercontent.com/BkRfMfIRPR9hUnmIYGDgHHKjow-g18-ouP6B2ko__VnyUHSi1spcc78UtZ4sVUtBH4g\" alt=\"Imagen 2\" width=\"200\">\n",
    "      <p align=\"center\"><span style=\"margin-left: 120px;\"></span> PDF</p>\n",
    "    </td>\n",
    "    <td>\n",
    "      <img src=\"https://static-00.iconduck.com/assets.00/csv-icon-1791x2048-ot22nr8i.png\" alt=\"Imagen 3\" width=\"200\">\n",
    "      <p align=\"center\"><span style=\"margin-left: 100px;\"></span> CSV</p>\n",
    "    </td>\n",
    "  </tr>\n",
    "</table>"
   ]
  },
  {
   "cell_type": "markdown",
   "id": "b553146c",
   "metadata": {},
   "source": [
    "### Uso de APIs ###"
   ]
  },
  {
   "cell_type": "markdown",
   "id": "8b2a92b5",
   "metadata": {},
   "source": [
    "#### 1. Obteniendo recomendaciones a partir de la temperatura deseada (API OpenWeather)"
   ]
  },
  {
   "cell_type": "code",
   "execution_count": 1,
   "id": "6b8cf177",
   "metadata": {},
   "outputs": [
    {
     "data": {
      "application/vnd.jupyter.widget-view+json": {
       "model_id": "0e386f71498d4b10a085920f4a9776ab",
       "version_major": 2,
       "version_minor": 0
      },
      "text/plain": [
       "Dropdown(description='Temperatura (°C):', layout=Layout(width='200px'), options=(8, 12, 14, 17, 18, 19, 21, 22…"
      ]
     },
     "metadata": {},
     "output_type": "display_data"
    },
    {
     "name": "stdout",
     "output_type": "stream",
     "text": [
      "Países con una temperatura de 24 °C: Cuba, Panama\n"
     ]
    }
   ],
   "source": [
    "import requests\n",
    "import ipywidgets as widgets\n",
    "from IPython.display import display\n",
    "\n",
    "api_key = 'cf62addae9c1d0360bf97aa196222a0b'\n",
    "countries = ['Argentina', 'Bolivia', 'Brazil', 'Chile', 'Colombia', 'Costa Rica', 'Cuba', 'Dominican Republic', 'Ecuador', 'El Salvador', 'Guatemala', 'Honduras', 'Mexico', 'Nicaragua', 'Panama', 'Paraguay', 'Peru', 'Uruguay', 'Venezuela']\n",
    "\n",
    "# Función para obtener la temperatura de un país específico en grados Celsius\n",
    "def obtener_temperatura(pais):\n",
    "    url = f'http://api.openweathermap.org/data/2.5/weather?q={pais}&appid={api_key}'\n",
    "    response = requests.get(url)\n",
    "    data = response.json()\n",
    "    temperatura_kelvin = data['main']['temp']\n",
    "    temperatura_celsius = temperatura_kelvin - 273.15\n",
    "    return temperatura_celsius\n",
    "\n",
    "# Obtener las temperaturas actuales de los países y crear la lista de opciones\n",
    "temperaturas_actuales = []\n",
    "for pais in countries:\n",
    "    temperatura_actual = obtener_temperatura(pais)\n",
    "    temperaturas_actuales.append(round(temperatura_actual))\n",
    "\n",
    "# Crear el widget de selección de temperaturas con las opciones obtenidas\n",
    "seleccion_temperatura = widgets.Dropdown(\n",
    "    options=sorted(set(temperaturas_actuales)),\n",
    "    description='Temperatura (°C):',\n",
    "    value=None,\n",
    "    layout={'width': '200px'}\n",
    ")\n",
    "\n",
    "# Función para manejar el evento de selección de temperatura\n",
    "def seleccion_temperatura_eventhandler(change):\n",
    "    temperatura_seleccionada = change.new\n",
    "    if temperatura_seleccionada:\n",
    "        paises_con_temperatura = []\n",
    "        for pais in countries:\n",
    "            temperatura_actual = obtener_temperatura(pais)\n",
    "            if round(temperatura_actual) == temperatura_seleccionada:\n",
    "                paises_con_temperatura.append(pais)\n",
    "        if paises_con_temperatura:\n",
    "            print(f'Países con una temperatura de {temperatura_seleccionada} °C: {\", \".join(paises_con_temperatura)}')\n",
    "        else:\n",
    "            print(f'No se encontraron países con una temperatura de {temperatura_seleccionada} °C')\n",
    "\n",
    "# Asociar la función de manejo de eventos al widget de selección de temperaturas\n",
    "seleccion_temperatura.observe(seleccion_temperatura_eventhandler, 'value')\n",
    "\n",
    "# Mostrar el widget en el notebook\n",
    "display(seleccion_temperatura)\n"
   ]
  },
  {
   "cell_type": "markdown",
   "id": "78300a22",
   "metadata": {},
   "source": [
    "Con este código se puede indicar la temperatura deseada, y se nos devuelve los países más apropiados para esa elección. Este código resulta un paso importante para relacionar la temperatura deseada con algún país de Latinoamérica."
   ]
  },
  {
   "cell_type": "code",
   "execution_count": null,
   "id": "35e74f1a",
   "metadata": {},
   "outputs": [],
   "source": []
  }
 ],
 "metadata": {
  "kernelspec": {
   "display_name": "Python 3 (ipykernel)",
   "language": "python",
   "name": "python3"
  },
  "language_info": {
   "codemirror_mode": {
    "name": "ipython",
    "version": 3
   },
   "file_extension": ".py",
   "mimetype": "text/x-python",
   "name": "python",
   "nbconvert_exporter": "python",
   "pygments_lexer": "ipython3",
   "version": "3.9.13"
  }
 },
 "nbformat": 4,
 "nbformat_minor": 5
}
