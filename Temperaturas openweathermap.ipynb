{
 "cells": [
  {
   "cell_type": "code",
   "execution_count": 6,
   "id": "e67cf57d",
   "metadata": {},
   "outputs": [
    {
     "name": "stdout",
     "output_type": "stream",
     "text": [
      "Temperatura actual en Argentina: 21.53 C°\n",
      "Temperatura actual en Bolivia: 31.82 C°\n",
      "Temperatura actual en Brazil: 26.72 C°\n",
      "Temperatura actual en Chile: 15.0 C°\n",
      "Temperatura actual en Colombia: 30.04 C°\n",
      "Temperatura actual en Costa Rica: 24.83 C°\n",
      "Temperatura actual en Cuba: 30.84 C°\n",
      "Temperatura actual en Dominican Republic: 24.01 C°\n",
      "Temperatura actual en Ecuador: 28.85 C°\n",
      "Temperatura actual en El Salvador: 25.58 C°\n",
      "Temperatura actual en Guatemala City: 24.91 C°\n",
      "Temperatura actual en Honduras: 20.66 C°\n",
      "Temperatura actual en Mexico: 27.84 C°\n",
      "Temperatura actual en Nicaragua: 26.9 C°\n",
      "Temperatura actual en Panama: 28.54 C°\n",
      "Temperatura actual en Paraguay: 29.89 C°\n",
      "Temperatura actual en Peru: 25.12 C°\n",
      "Temperatura actual en Uruguay: 19.21 C°\n",
      "Temperatura actual en Venezuela: 30.38 C°\n"
     ]
    }
   ],
   "source": [
    "import requests \n",
    "\n",
    "api_key = 'cf62addae9c1d0360bf97aa196222a0b'\n",
    "countries = ['Argentina', 'Bolivia', 'Brazil', 'Chile', 'Colombia', 'Costa Rica', 'Cuba', 'Dominican Republic', 'Ecuador', 'El Salvador', 'Guatemala', 'Honduras', 'Mexico', 'Nicaragua', 'Panama', 'Paraguay', 'Peru', 'Uruguay', 'Venezuela']\n",
    "\n",
    "for country in countries:\n",
    "    url = f'http://api.openweathermap.org/data/2.5/weather?q={country}&appid={api_key}'\n",
    "    response = requests.get(url)\n",
    "    data = response.json()\n",
    "    \n",
    "    temperature = round( data['main']['temp'] - 273.15 , 2) \n",
    "    country_name = data['name']\n",
    "    \n",
    "    print(f'Temperatura actual en {country_name}: {temperature} C°')\n"
   ]
  },
  {
   "cell_type": "code",
   "execution_count": null,
   "id": "fe9d398a",
   "metadata": {},
   "outputs": [],
   "source": []
  }
 ],
 "metadata": {
  "kernelspec": {
   "display_name": "Python 3 (ipykernel)",
   "language": "python",
   "name": "python3"
  },
  "language_info": {
   "codemirror_mode": {
    "name": "ipython",
    "version": 3
   },
   "file_extension": ".py",
   "mimetype": "text/x-python",
   "name": "python",
   "nbconvert_exporter": "python",
   "pygments_lexer": "ipython3",
   "version": "3.9.13"
  }
 },
 "nbformat": 4,
 "nbformat_minor": 5
}
