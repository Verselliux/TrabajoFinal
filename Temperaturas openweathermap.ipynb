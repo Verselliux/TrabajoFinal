{
 "cells": [
  {
   "cell_type": "code",
<<<<<<< HEAD
   "execution_count": 1,
   "id": "89f3cbe8",
=======
   "execution_count": 6,
   "id": "e67cf57d",
>>>>>>> 9f8d0255f01b58bd697c9aa2e89f52677762b511
   "metadata": {},
   "outputs": [
    {
     "name": "stdout",
     "output_type": "stream",
     "text": [
<<<<<<< HEAD
      "Temperatura actual en Argentina: 23.08 C°\n",
      "Temperatura actual en Bolivia: 31.44 C°\n",
      "Temperatura actual en Brazil: 25.78 C°\n",
      "Temperatura actual en Chile: 14.0 C°\n",
      "Temperatura actual en Colombia: 30.77 C°\n",
      "Temperatura actual en Costa Rica: 19.36 C°\n",
      "Temperatura actual en Cuba: 31.52 C°\n",
      "Temperatura actual en Dominican Republic: 27.01 C°\n",
      "Temperatura actual en Ecuador: 29.03 C°\n",
      "Temperatura actual en El Salvador: 27.25 C°\n",
      "Temperatura actual en Guatemala City: 18.91 C°\n",
      "Temperatura actual en Honduras: 20.04 C°\n",
      "Temperatura actual en Mexico: 25.84 C°\n",
      "Temperatura actual en Nicaragua: 27.28 C°\n",
      "Temperatura actual en Panama: 26.2 C°\n",
      "Temperatura actual en Paraguay: 24.18 C°\n",
      "Temperatura actual en Peru: 28.32 C°\n",
      "Temperatura actual en Uruguay: 15.69 C°\n",
      "Temperatura actual en Venezuela: 30.16 C°\n"
=======
      "Temperatura actual en Argentina: 21.53 C°\n",
      "Temperatura actual en Bolivia: 31.82 C°\n",
      "Temperatura actual en Brazil: 26.72 C°\n",
      "Temperatura actual en Chile: 15.0 C°\n",
      "Temperatura actual en Colombia: 30.04 C°\n",
      "Temperatura actual en Costa Rica: 24.83 C°\n",
      "Temperatura actual en Cuba: 30.84 C°\n",
      "Temperatura actual en Dominican Republic: 24.01 C°\n",
      "Temperatura actual en Ecuador: 28.85 C°\n",
      "Temperatura actual en El Salvador: 25.58 C°\n",
      "Temperatura actual en Guatemala City: 24.91 C°\n",
      "Temperatura actual en Honduras: 20.66 C°\n",
      "Temperatura actual en Mexico: 27.84 C°\n",
      "Temperatura actual en Nicaragua: 26.9 C°\n",
      "Temperatura actual en Panama: 28.54 C°\n",
      "Temperatura actual en Paraguay: 29.89 C°\n",
      "Temperatura actual en Peru: 25.12 C°\n",
      "Temperatura actual en Uruguay: 19.21 C°\n",
      "Temperatura actual en Venezuela: 30.38 C°\n"
>>>>>>> 9f8d0255f01b58bd697c9aa2e89f52677762b511
     ]
    }
   ],
   "source": [
    "import requests \n",
    "\n",
    "api_key = 'cf62addae9c1d0360bf97aa196222a0b'\n",
    "countries = ['Argentina', 'Bolivia', 'Brazil', 'Chile', 'Colombia', 'Costa Rica', 'Cuba', 'Dominican Republic', 'Ecuador', 'El Salvador', 'Guatemala', 'Honduras', 'Mexico', 'Nicaragua', 'Panama', 'Paraguay', 'Peru', 'Uruguay', 'Venezuela']\n",
    "\n",
    "for country in countries:\n",
    "    url = f'http://api.openweathermap.org/data/2.5/weather?q={country}&appid={api_key}'\n",
    "    response = requests.get(url)\n",
    "    data = response.json()\n",
    "    \n",
    "    temperature = round( data['main']['temp'] - 273.15 , 2) \n",
    "    country_name = data['name']\n",
    "    \n",
    "    print(f'Temperatura actual en {country_name}: {temperature} C°')\n"
   ]
  },
  {
   "cell_type": "code",
   "execution_count": null,
   "id": "fe9d398a",
   "metadata": {},
   "outputs": [],
   "source": []
  }
 ],
 "metadata": {
  "kernelspec": {
   "display_name": "Python 3 (ipykernel)",
   "language": "python",
   "name": "python3"
  },
  "language_info": {
   "codemirror_mode": {
    "name": "ipython",
    "version": 3
   },
   "file_extension": ".py",
   "mimetype": "text/x-python",
   "name": "python",
   "nbconvert_exporter": "python",
   "pygments_lexer": "ipython3",
   "version": "3.9.13"
  }
 },
 "nbformat": 4,
 "nbformat_minor": 5
}
