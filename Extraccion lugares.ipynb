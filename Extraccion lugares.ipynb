{
 "cells": [
  {
   "cell_type": "code",
   "execution_count": null,
   "id": "d2c6035e",
   "metadata": {},
   "outputs": [],
   "source": [
    "import re\n",
    "import request \n",
    "\n",
    "\n",
    "###Lugares Turisticos de Centro america y sudamerica\n",
    "consulta1 = requests.get('https://www.aarp.org/espanol/turismo/internacional/info-2016/fotos-patrimonios-culturales-america-latina.html')\n",
    "consulta2 = requests.get('https://viajerocasual.com/lugares-turisticos-de-sudamerica/')\n",
    "\n",
    "lugares1 = re.findall(r'<h2 id=\"listTitle.*?\">(.*?)</h2>' , consulta1.text , re.DOTALL)\n",
    "lugares2 = re.findall(r'<h2 class=\"wp-block-heading\"><span class=\"ez-toc-section\" id=\"[^\"]*\"></span>(.*?)<span class=\"ez-toc-section-end\"></span></h2>' , \n",
    "                     consulta2.text , re.DOTALL)\n",
    "Lugares = []\n",
    "Paises = []\n",
    "\n",
    "\n",
    "\n",
    "\n"
   ]
  }
 ],
 "metadata": {
  "kernelspec": {
   "display_name": "Python 3 (ipykernel)",
   "language": "python",
   "name": "python3"
  },
  "language_info": {
   "codemirror_mode": {
    "name": "ipython",
    "version": 3
   },
   "file_extension": ".py",
   "mimetype": "text/x-python",
   "name": "python",
   "nbconvert_exporter": "python",
   "pygments_lexer": "ipython3",
   "version": "3.9.13"
  }
 },
 "nbformat": 4,
 "nbformat_minor": 5
}
